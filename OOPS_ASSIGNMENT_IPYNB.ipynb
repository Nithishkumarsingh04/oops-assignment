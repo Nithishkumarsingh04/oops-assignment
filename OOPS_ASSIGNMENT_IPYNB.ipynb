{
  "nbformat": 4,
  "nbformat_minor": 0,
  "metadata": {
    "colab": {
      "private_outputs": true,
      "provenance": []
    },
    "kernelspec": {
      "name": "python3",
      "display_name": "Python 3"
    },
    "language_info": {
      "name": "python"
    }
  },
  "cells": [
    {
      "cell_type": "markdown",
      "source": [
        "                         Oops assignment\n",
        "\n",
        " 1-What is Object-Oriented Programming (OOP)?\n",
        "  \n",
        "   Object-Oriented Programming (OOP): A programming paradigm based on the concept of \"objects\", which contain data (attributes) and code (methods).\n",
        "\n",
        " 2- What is a class in OOP?\n",
        "\n",
        "  Class in OOP: A blueprint for creating objects; it defines attributes and methods shared by all instances.\n",
        "\n",
        " 3- What is an object in OOP?\n",
        "\n",
        "  Object in OOP: An instance of a class; it represents a specific entity with data and behavior.\n",
        "\n",
        "4- What is the difference between abstraction and encapsulation?\n",
        "\n",
        "  Abstraction / Encapsulation:\n",
        "\n",
        "●\tAbstraction hides complex implementation details and shows only essential features.\n",
        "\n",
        "●\tEncapsulation hides internal state and requires interaction through methods (access control).\n",
        "\n",
        "5- What are dunder methods in Python?\n",
        "\n",
        " Dunder Methods: Special methods in Python with double underscores (e.g., __init__, __str__) that define object behavior for built-in operations.\n",
        "\n",
        "6- Explain the concept of inheritance in OOPH?\n",
        "\n",
        " Inheritance in OOP: A mechanism where a class (child) inherits attributes and methods from another class (parent).\n",
        "\n",
        "7- What is polymorphism in OOP?\n",
        "\n",
        " Polymorphism in OOP: The ability for different classes to be treated as instances of the same class through a common interface, often by method overriding.\n",
        "\n",
        "8- How is encapsulation achieved in Python?\n",
        "\n",
        " Encapsulation in Python: Achieved using access modifiers like _protected and __private, along with getter/setter methods.\n",
        "\n",
        "9- What is a constructor in Python?\n",
        "\n",
        " Constructor in Python: The __init__ method, automatically called when a new object is created to initialize its attributes.11- What is method overriding in OOP+\n",
        "\n",
        "10- What are class and static methods in Python+  What is method overloading in Python?\n",
        "\n",
        " Class vs. Static Methods:\n",
        "\n",
        "●\t@classmethod takes cls as the first argument and can mod\n",
        "ify class state.\n",
        "\n",
        "●\t@staticmethod takes no default arguments and is utility-like.\n",
        " Method Overloading in Python: Not natively supported; can be mimicked using default arguments or *args.\n",
        "\n",
        "11- What is method overloading in Python?\n",
        "\n",
        " Method Overloading in Python (again): Not directly supported; use default parameters or *args to simulate overloading behavior.\n",
        "\n",
        "12- What is method overriding in OOP?\n",
        "\n",
        " Method Overriding: Redefining a parent class’s method in the child class to change behavior.\n",
        "\n",
        "13- What is a property decorator in Python?\n",
        "\n",
        " Method Overriding: Redefining a parent class’s method in the child class to change behavior.\n",
        "\n",
        "14- Why is polymorphism important in OOP?\n",
        "\n",
        " Importance of Polymorphism: Promotes flexibility and code reuse by allowing different classes to define the same method in different ways.\n",
        "\n",
        "15- What is an abstract class in Python?\n",
        "\n",
        " Abstract Class in Python: A class with abstract methods (declared but not implemented), created using the abc module and @abstractmethod.\n",
        "\n",
        "16- What are the advantages of OOP?  \n",
        "\n",
        "  Advantages of OOP: Code reusability, scalability, modularity, easy maintenance, and abstraction of complex systems.                    \n",
        "\n",
        "17- What is the difference between a class variable and an instance variable?  \n",
        "\n",
        " Class vs. Instance Variable:\n",
        "\n",
        "●\tClass variable is shared across all instances.\n",
        "\n",
        "●\tInstance variable is unique to each object.\n",
        "\n",
        "18- What is multiple inheritance in Python?\n",
        "\n",
        " Multiple Inheritance: A class can inherit from more than one parent class; handled using the method resolution order (MRO) in Python.\n",
        "\n",
        "19- Explain the purpose of ‘’__str__’ and ‘__repr__’ ‘ methods in Python?\n",
        "\n",
        " str vs. repr:\n",
        "\n",
        "●\t__str__: User-friendly string representation (print).\n",
        "\n",
        "●\t__repr__: Unambiguous representation for developers/debugging.\n",
        "\n",
        "20- What is the significance of the ‘super()’ function in Python?\n",
        "\n",
        " super() Function: Calls a method from the parent class, often used to extend __init__ or overridden methods.\n",
        "\n",
        "21- What is the significance of the __del__ method in Python?\n",
        "\n",
        " del Method: Destructor method called when an object is about to be destroyed (rarely needed; use with caution).\n",
        "\n",
        "22- What is the difference between @staticmethod and @classmethod in Python?\n",
        "\n",
        "  @staticmethod vs. @classmethod:\n",
        "\n",
        "●\t@staticmethod doesn’t access class or instance.\n",
        "\n",
        "●\t@classmethod receives the class (cls) as the first argument.\n",
        "\n",
        "23- How does polymorphism work in Python with inheritance?\n",
        "\n",
        " Polymorphism with Inheritance: Enables child classes to override parent methods, allowing for interchangeable object behavior via a shared interface.\n",
        "\n",
        "24- What is method chaining in Python OOP?\n",
        "\n",
        " Method Chaining: Returning self from methods to allow multiple method calls in a single line.\n",
        "\n",
        "25- What is the purpose of the __call__ method in Python?\n",
        "\n",
        " call Method: Allows an object to be called like a function, enabling callable object behavior.\n",
        "\n"
      ],
      "metadata": {
        "id": "y6Bgqhayjt8v"
      }
    },
    {
      "cell_type": "code",
      "source": [
        "#1. Create a parent class Animal with a method speak() that prints a generic message. Create a child class Dogthat overrides the speak() method to print \"Bark!\".\n",
        "class Animal:\n",
        "    def speak(self):\n",
        "        print(\"Animal speaks\")\n",
        "\n",
        "class Dog(Animal):\n",
        "    def speak(self):\n",
        "        print(\"Bark!\")"
      ],
      "metadata": {
        "id": "pifVbQ4RoqLv"
      },
      "execution_count": null,
      "outputs": []
    },
    {
      "cell_type": "code",
      "source": [
        "#2. Write a program to create an abstract class Shape with a method area(). Derive classes Circle and Rectangle from it and implement the area() method in both.\n",
        "\n",
        "from abc import ABC, abstractmethod\n",
        "\n",
        "class Shape(ABC):\n",
        "    @abstractmethod\n",
        "    def area(self):\n",
        "        pass\n",
        "\n",
        "class Circle(Shape):\n",
        "    def __init__(self, radius):\n",
        "        self.radius = radius\n",
        "\n",
        "    def area(self):\n",
        "        return 3.14 * self.radius ** 2\n",
        "\n",
        "class Rectangle(Shape):\n",
        "    def __init__(self, width, height):\n",
        "        self.width = width\n",
        "        self.height = height\n",
        "\n",
        "    def area(self):\n",
        "        return self.width * self.height\n"
      ],
      "metadata": {
        "id": "c2pzj1dJpRrx"
      },
      "execution_count": null,
      "outputs": []
    },
    {
      "cell_type": "code",
      "source": [
        "#3. Implement a multi-level inheritance scenario where a class Vehicle has an attribute type. Derive a class Car and further derive a class ElectricCar that adds a battery attribute.\n",
        "\n",
        "class Vehicle:\n",
        "    def __init__(self, type):\n",
        "        self.type = type\n",
        "\n",
        "class Car(Vehicle):\n",
        "    def __init__(self, type, model):\n",
        "        super().__init__(type)\n",
        "        self.model = model\n",
        "\n",
        "class ElectricCar(Car):\n",
        "    def __init__(self, type, model, battery):\n",
        "        super().__init__(type, model)\n",
        "        self.battery = battery\n"
      ],
      "metadata": {
        "id": "O8sUftrop0M9"
      },
      "execution_count": null,
      "outputs": []
    },
    {
      "cell_type": "code",
      "source": [
        "#4. Demonstrate polymorphism by creating a base class Bird with a method fly(). Create two derived classes Sparrow and Penguin that override the fly() method.\n",
        "\n",
        "class Bird:\n",
        "    def fly(self):\n",
        "        print(\"Bird is flying\")\n",
        "\n",
        "class Sparrow(Bird):\n",
        "    def fly(self):\n",
        "        print(\"Sparrow flies high\")\n",
        "\n",
        "class Penguin(Bird):\n",
        "    def fly(self):\n",
        "        print(\"Penguins can't fly\")\n"
      ],
      "metadata": {
        "id": "wd34PT1RqOKN"
      },
      "execution_count": null,
      "outputs": []
    },
    {
      "cell_type": "code",
      "source": [
        "# 5. Write a program to demonstrate encapsulation by creating a class BankAccount with private attributes balance and methods to deposit, withdraw, and check balance.\n",
        "\n",
        "class BankAccount:\n",
        "    def __init__(self):\n",
        "        self.__balance = 0\n",
        "\n",
        "    def deposit(self, amount):\n",
        "        self.__balance += amount\n",
        "\n",
        "    def withdraw(self, amount):\n",
        "        if amount <= self.__balance:\n",
        "            self.__balance -= amount\n",
        "\n",
        "    def check_balance(self):\n",
        "        return self.__balance\n"
      ],
      "metadata": {
        "id": "13r6h8bEqXow"
      },
      "execution_count": null,
      "outputs": []
    },
    {
      "cell_type": "code",
      "source": [
        "#6. Demonstrate runtime polymorphism using a method play() in a base class Instrument. Derive classes Guitar and Piano that implement their own version of play().\n",
        "\n",
        "class Instrument:\n",
        "    def play(self):\n",
        "        print(\"Playing an instrument\")\n",
        "\n",
        "class Guitar(Instrument):\n",
        "    def play(self):\n",
        "        print(\"Strumming the guitar\")\n",
        "\n",
        "class Piano(Instrument):\n",
        "    def play(self):\n",
        "        print(\"Playing the piano\")\n"
      ],
      "metadata": {
        "id": "vytvKzNZqdIx"
      },
      "execution_count": null,
      "outputs": []
    },
    {
      "cell_type": "code",
      "source": [
        "#7. Create a class MathOperations with a class method add_numbers() to add two numbers and a static method subtract_numbers() to subtract two numbers.\n",
        "\n",
        "class MathOperations:\n",
        "    @classmethod\n",
        "    def add_numbers(cls, a, b):\n",
        "        return a + b\n",
        "\n",
        "    @staticmethod\n",
        "    def subtract_numbers(a, b):\n",
        "        return a - b\n"
      ],
      "metadata": {
        "id": "2m_bxWyNqmgd"
      },
      "execution_count": null,
      "outputs": []
    },
    {
      "cell_type": "code",
      "source": [
        "#8. Implement a class Person with a class method to count the total number of persons created.\n",
        "\n",
        "class Person:\n",
        "    count = 0\n",
        "\n",
        "    def __init__(self, name):\n",
        "        self.name = name\n",
        "        Person.count += 1\n",
        "\n",
        "    @classmethod\n",
        "    def total_persons(cls):\n",
        "        return cls.count\n"
      ],
      "metadata": {
        "id": "Yw7JqNxfqwWF"
      },
      "execution_count": null,
      "outputs": []
    },
    {
      "cell_type": "code",
      "source": [
        "#9. Write a class Fraction with attributes numerator and denominator. Override the str method to display the fraction as \"numerator/denominator\".\n",
        "\n",
        "class Fraction:\n",
        "    def __init__(self, numerator, denominator):\n",
        "        self.numerator = numerator\n",
        "        self.denominator = denominator\n",
        "\n",
        "    def __str__(self):\n",
        "        return f\"{self.numerator}/{self.denominator}\"\n"
      ],
      "metadata": {
        "id": "P8JQIZs-q21O"
      },
      "execution_count": null,
      "outputs": []
    },
    {
      "cell_type": "code",
      "source": [
        "#10. Demonstrate operator overloading by creating a class Vector and overriding the add method to add two vectors.\n",
        "\n",
        "class Vector:\n",
        "    def __init__(self, x, y):\n",
        "        self.x = x\n",
        "        self.y = y\n",
        "\n",
        "    def __add__(self, other):\n",
        "        return Vector(self.x + other.x, self.y + other.y)\n",
        "\n",
        "    def __str__(self):\n",
        "        return f\"({self.x}, {self.y})\"\n"
      ],
      "metadata": {
        "id": "pAlKVoR2q7Kj"
      },
      "execution_count": null,
      "outputs": []
    },
    {
      "cell_type": "code",
      "source": [
        "#11. Create a class Person with attributes name and age. Add a method greet() that prints \"Hello, my name is {name} and I am {age} years old.\"\n",
        "\n",
        "class Person:\n",
        "    def __init__(self, name, age):\n",
        "        self.name = name\n",
        "        self.age = age\n",
        "\n",
        "    def greet(self):\n",
        "        print(f\"Hello, my name is {self.name} and I am {self.age} years old.\")\n"
      ],
      "metadata": {
        "id": "SLchXi4brGLi"
      },
      "execution_count": null,
      "outputs": []
    },
    {
      "cell_type": "code",
      "source": [
        "#12. Implement a class Student with attributes name and grades. Create a method average_grade() to compute the average of the grades.\n",
        "\n",
        "class Student:\n",
        "    def __init__(self, name, grades):\n",
        "        self.name = name\n",
        "        self.grades = grades\n",
        "\n",
        "    def average_grade(self):\n",
        "        return sum(self.grades) / len(self.grades)\n"
      ],
      "metadata": {
        "id": "dMvLevHQrOPk"
      },
      "execution_count": null,
      "outputs": []
    },
    {
      "cell_type": "code",
      "source": [
        "#13. Create a class Rectangle with methods set_dimensions() to set the dimensions and area() to calculate the Area.\n",
        "\n",
        "class Rectangle:\n",
        "    def set_dimensions(self, width, height):\n",
        "        self.width = width\n",
        "        self.height = height\n",
        "\n",
        "    def area(self):\n",
        "        return self.width * self.height\n"
      ],
      "metadata": {
        "id": "Vb_FgvHNrUnB"
      },
      "execution_count": null,
      "outputs": []
    },
    {
      "cell_type": "code",
      "source": [
        "#14. Create a class Employee with a method calculate_salary() that computes the salary based on hours worked\n",
        "#and hourly rate. Create a derived class Manager that adds a bonus to the salary.\n",
        "#Practical Questions\n",
        "#Java + DSA Pwskills\n",
        "\n",
        "class Employee:\n",
        "    def calculate_salary(self, hours, rate):\n",
        "        return hours * rate\n",
        "\n",
        "class Manager(Employee):\n",
        "    def calculate_salary(self, hours, rate, bonus):\n",
        "        return super().calculate_salary(hours, rate) + bonus\n"
      ],
      "metadata": {
        "id": "-Mppo1J2raqU"
      },
      "execution_count": null,
      "outputs": []
    },
    {
      "cell_type": "code",
      "source": [
        "#15. Create a class Product with attributes name, price, and quantity. Implement a method total_price() that\n",
        "#calculates the total price of the product.\n",
        "\n",
        "class Product:\n",
        "    def __init__(self, name, price, quantity):\n",
        "        self.name = name\n",
        "        self.price = price\n",
        "        self.quantity = quantity\n",
        "\n",
        "    def total_price(self):\n",
        "        return self.price * self.quantity\n"
      ],
      "metadata": {
        "id": "fqYS2wBZrg5g"
      },
      "execution_count": null,
      "outputs": []
    },
    {
      "cell_type": "code",
      "source": [
        "#16. Create a class Animal with an abstract method sound(). Create two derived classes Cow and Sheep that implement the sound() method.\n",
        "\n",
        "from abc import ABC, abstractmethod\n",
        "\n",
        "class Animal(ABC):\n",
        "    @abstractmethod\n",
        "    def sound(self):\n",
        "        pass\n",
        "\n",
        "class Cow(Animal):\n",
        "    def sound(self):\n",
        "        return \"Moo\"\n",
        "\n",
        "class Sheep(Animal):\n",
        "    def sound(self):\n",
        "        return \"Baa\"\n"
      ],
      "metadata": {
        "id": "1rKv9mdYroNh"
      },
      "execution_count": null,
      "outputs": []
    },
    {
      "cell_type": "code",
      "source": [
        "#17. Create a class Book with attributes title, author, and year_published. Add a method get_book_info() that returns a formatted string with the book's details.\n",
        "\n",
        "class Book:\n",
        "    def __init__(self, title, author, year_published):\n",
        "        self.title = title\n",
        "        self.author = author\n",
        "        self.year_published = year_published\n",
        "\n",
        "    def get_book_info(self):\n",
        "        return f\"{self.title} by {self.author}, published in {self.year_published}\"\n"
      ],
      "metadata": {
        "id": "dZ-s0UShrstd"
      },
      "execution_count": null,
      "outputs": []
    },
    {
      "cell_type": "code",
      "source": [
        "#18. Create a class House with attributes address and price. Create a derived class Mansion that adds an attribute number_of_rooms.\n",
        "\n",
        "class House:\n",
        "    def __init__(self, address, price):\n",
        "        self.address = address\n",
        "        self.price = price\n",
        "\n",
        "class Mansion(House):\n",
        "    def __init__(self, address, price, number_of_rooms):\n",
        "        super().__init__(address, price)\n",
        "        self.number_of_rooms = number_of_rooms\n"
      ],
      "metadata": {
        "id": "3akkuEPrrzGl"
      },
      "execution_count": null,
      "outputs": []
    }
  ]
}